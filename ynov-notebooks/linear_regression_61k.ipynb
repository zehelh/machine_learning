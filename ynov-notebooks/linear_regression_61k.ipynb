{
 "cells": [
  {
   "cell_type": "code",
   "execution_count": 222,
   "metadata": {
    "vscode": {
     "languageId": "plaintext"
    }
   },
   "outputs": [],
   "source": [
    "import pandas as pd\n",
    "import matplotlib.pyplot as plt\n",
    "import numpy as np\n",
    "from sklearn.linear_model import LinearRegression\n",
    "from sklearn.metrics import root_mean_squared_error, r2_score\n",
    "from sklearn.impute import SimpleImputer\n",
    "from sklearn.compose import ColumnTransformer\n",
    "from sklearn.pipeline import Pipeline\n",
    "from sklearn.preprocessing import OneHotEncoder, StandardScaler, PolynomialFeatures\n",
    "from sklearn.model_selection import GridSearchCV\n",
    "from sklearn.compose import ColumnTransformer"
   ]
  },
  {
   "cell_type": "code",
   "execution_count": 223,
   "metadata": {
    "vscode": {
     "languageId": "plaintext"
    }
   },
   "outputs": [],
   "source": [
    "train_data = pd.read_csv('../ynov-data/train_housing_train.csv')\n",
    "valid_data = pd.read_csv('../ynov-data/train_housing_valid.csv')"
   ]
  },
  {
   "cell_type": "code",
   "execution_count": 224,
   "metadata": {
    "vscode": {
     "languageId": "plaintext"
    }
   },
   "outputs": [],
   "source": [
    "X = train_data.drop(['median_house_value', 'id'], axis=1)\n",
    "y = train_data['median_house_value']"
   ]
  },
  {
   "cell_type": "code",
   "execution_count": 225,
   "metadata": {
    "vscode": {
     "languageId": "plaintext"
    }
   },
   "outputs": [],
   "source": [
    "categorical_features = X.select_dtypes(include=['object']).columns\n",
    "numeric_features = X.select_dtypes(include=['number']).columns\n",
    "\n",
    "# Define the preprocessor\n",
    "preprocessor = ColumnTransformer(\n",
    "    transformers=[\n",
    "        ('num', Pipeline([\n",
    "            ('imputer', SimpleImputer(strategy='mean')),\n",
    "            ('poly', PolynomialFeatures(degree=2, include_bias=False)),\n",
    "            ('scaler', StandardScaler())\n",
    "        ]), numeric_features),\n",
    "        ('cat', Pipeline([\n",
    "            ('imputer', SimpleImputer(strategy='most_frequent')),\n",
    "            ('encoder', OneHotEncoder())\n",
    "        ]), categorical_features)\n",
    "    ])"
   ]
  },
  {
   "cell_type": "code",
   "execution_count": 226,
   "metadata": {
    "vscode": {
     "languageId": "plaintext"
    }
   },
   "outputs": [],
   "source": [
    "pipe = Pipeline([\n",
    "    ('preprocessor', preprocessor),\n",
    "    ('regressor', LinearRegression())\n",
    "])"
   ]
  },
  {
   "cell_type": "code",
   "execution_count": 227,
   "metadata": {
    "vscode": {
     "languageId": "plaintext"
    }
   },
   "outputs": [],
   "source": [
    "param_grid = {\n",
    "    'preprocessor__num__poly__degree': [1, 2, 3]\n",
    "}\n",
    "# Use GridSearchCV to find the best parameters\n",
    "grid_search = GridSearchCV(pipe, param_grid, cv=5, scoring='neg_mean_squared_error', n_jobs=-1)\n",
    "grid_search.fit(X, y)\n",
    "best_model = grid_search.best_estimator_\n",
    "predictions = best_model.predict(X)"
   ]
  },
  {
   "cell_type": "code",
   "execution_count": 228,
   "metadata": {
    "vscode": {
     "languageId": "plaintext"
    }
   },
   "outputs": [],
   "source": [
    "pipe.fit(X, y)\n",
    "predictions = pipe.predict(X)"
   ]
  },
  {
   "cell_type": "code",
   "execution_count": 229,
   "metadata": {
    "vscode": {
     "languageId": "plaintext"
    }
   },
   "outputs": [],
   "source": [
    "rmse = root_mean_squared_error(y, predictions)\n",
    "r2 = r2_score(y, predictions)"
   ]
  },
  {
   "cell_type": "code",
   "execution_count": 230,
   "metadata": {
    "vscode": {
     "languageId": "plaintext"
    }
   },
   "outputs": [
    {
     "name": "stdout",
     "output_type": "stream",
     "text": [
      "RMSE: 61839.27\n",
      "R²: 0.71\n"
     ]
    }
   ],
   "source": [
    "print(f'RMSE: {rmse:.2f}')\n",
    "print(f'R²: {r2:.2f}')"
   ]
  },
  {
   "cell_type": "code",
   "execution_count": 231,
   "metadata": {
    "vscode": {
     "languageId": "plaintext"
    }
   },
   "outputs": [
    {
     "name": "stdout",
     "output_type": "stream",
     "text": [
      "\n",
      "Coefficients:\n",
      "                                   Feature   Coefficient\n",
      "0                           num__longitude  1.096910e+06\n",
      "1                            num__latitude  1.911198e+06\n",
      "2                  num__housing_median_age -9.513062e+05\n",
      "3                         num__total_rooms  2.154121e+06\n",
      "4                      num__total_bedrooms -1.887437e+06\n",
      "5                          num__population  1.189744e+06\n",
      "6                          num__households -1.289806e+06\n",
      "7                       num__median_income -1.885241e+06\n",
      "8                         num__longitude^2  1.763942e+06\n",
      "9                  num__longitude latitude  3.263458e+06\n",
      "10       num__longitude housing_median_age -1.390530e+06\n",
      "11              num__longitude total_rooms  3.314067e+06\n",
      "12           num__longitude total_bedrooms -3.036562e+06\n",
      "13               num__longitude population  1.845284e+06\n",
      "14               num__longitude households -1.892286e+06\n",
      "15            num__longitude median_income -2.891720e+06\n",
      "16                         num__latitude^2  7.421300e+05\n",
      "17        num__latitude housing_median_age -4.590999e+05\n",
      "18               num__latitude total_rooms  1.053516e+06\n",
      "19            num__latitude total_bedrooms -1.041064e+06\n",
      "20                num__latitude population  6.545840e+05\n",
      "21                num__latitude households -6.204961e+05\n",
      "22             num__latitude median_income -8.900718e+05\n",
      "23               num__housing_median_age^2  2.026746e+04\n",
      "24     num__housing_median_age total_rooms -3.358569e+02\n",
      "25  num__housing_median_age total_bedrooms -2.342931e+03\n",
      "26      num__housing_median_age population -4.335404e+04\n",
      "27      num__housing_median_age households  5.879479e+04\n",
      "28   num__housing_median_age median_income  5.763206e+03\n",
      "29                      num__total_rooms^2 -4.647866e+04\n",
      "30         num__total_rooms total_bedrooms  6.029457e+04\n",
      "31             num__total_rooms population -1.641952e+05\n",
      "32             num__total_rooms households  2.052788e+05\n",
      "33          num__total_rooms median_income  1.175203e+05\n",
      "34                   num__total_bedrooms^2 -4.067128e+04\n",
      "35          num__total_bedrooms population  1.828206e+05\n",
      "36          num__total_bedrooms households -2.160590e+05\n",
      "37       num__total_bedrooms median_income -5.357413e+04\n",
      "38                       num__population^2  4.350621e+04\n",
      "39              num__population households -8.394720e+04\n",
      "40           num__population median_income -1.501388e+04\n",
      "41                       num__households^2  6.594680e+04\n",
      "42           num__households median_income -2.318367e+04\n",
      "43                    num__median_income^2 -5.185548e+04\n",
      "44          cat__ocean_proximity_<1H OCEAN -4.695039e+03\n",
      "45             cat__ocean_proximity_INLAND -3.098273e+04\n",
      "46             cat__ocean_proximity_ISLAND  4.861167e+04\n",
      "47           cat__ocean_proximity_NEAR BAY -7.559822e+03\n",
      "48         cat__ocean_proximity_NEAR OCEAN -5.374088e+03\n"
     ]
    }
   ],
   "source": [
    "model = pipe.named_steps['regressor']  # or whatever your model step is named\n",
    "feature_names = pipe.named_steps['preprocessor'].get_feature_names_out()\n",
    "\n",
    "coefficients = pd.DataFrame({'Feature': feature_names, 'Coefficient': model.coef_})\n",
    "\n",
    "print(\"\\nCoefficients:\")\n",
    "print(coefficients)"
   ]
  },
  {
   "cell_type": "code",
   "execution_count": 232,
   "metadata": {},
   "outputs": [
    {
     "data": {
      "text/plain": [
       "0       113700.0\n",
       "1       184900.0\n",
       "2        69800.0\n",
       "3       192600.0\n",
       "4       225000.0\n",
       "          ...   \n",
       "9595    353500.0\n",
       "9596    500001.0\n",
       "9597    189100.0\n",
       "9598    183400.0\n",
       "9599     22500.0\n",
       "Name: median_house_value, Length: 9600, dtype: float64"
      ]
     },
     "execution_count": 232,
     "metadata": {},
     "output_type": "execute_result"
    }
   ],
   "source": [
    "y"
   ]
  },
  {
   "cell_type": "code",
   "execution_count": 233,
   "metadata": {},
   "outputs": [
    {
     "data": {
      "text/plain": [
       "array([111893.90600562, 179431.91313587, 127236.01952503, ...,\n",
       "       255821.98079291, 231823.31799817, 169982.57025225])"
      ]
     },
     "execution_count": 233,
     "metadata": {},
     "output_type": "execute_result"
    }
   ],
   "source": [
    "predictions"
   ]
  },
  {
   "cell_type": "code",
   "execution_count": 234,
   "metadata": {},
   "outputs": [
    {
     "name": "stdout",
     "output_type": "stream",
     "text": [
      "[129139.46548774 207317.83190407 308142.07078694 ... 278615.20837553\n",
      " 158866.27712654 131635.51547357]\n"
     ]
    }
   ],
   "source": [
    "X_valid = valid_data.drop(['median_house_value', 'id'], axis=1)\n",
    "y_valid = valid_data['median_house_value']\n",
    "\n",
    "# Use the pipeline to predict the test data\n",
    "valid_predictions = pipe.predict(X_valid)\n",
    "print(valid_predictions)"
   ]
  },
  {
   "cell_type": "code",
   "execution_count": 235,
   "metadata": {},
   "outputs": [],
   "source": [
    "rmse = root_mean_squared_error(y_valid, valid_predictions)\n",
    "r2 = r2_score(y_valid, valid_predictions)"
   ]
  },
  {
   "cell_type": "code",
   "execution_count": 236,
   "metadata": {},
   "outputs": [
    {
     "name": "stdout",
     "output_type": "stream",
     "text": [
      "RMSE: 66303.50\n",
      "R²: 0.69\n"
     ]
    }
   ],
   "source": [
    "print(f'RMSE: {rmse:.2f}')\n",
    "print(f'R²: {r2:.2f}')"
   ]
  },
  {
   "cell_type": "code",
   "execution_count": 237,
   "metadata": {},
   "outputs": [],
   "source": [
    "test = pd.read_csv('../ynov-data/test_housing.csv')"
   ]
  },
  {
   "cell_type": "code",
   "execution_count": 238,
   "metadata": {},
   "outputs": [],
   "source": [
    "X_test = test.drop('id', axis=1)\n",
    "\n",
    "# Use the pipeline to predict the test data\n",
    "test_predictions = pipe.predict(X_test)"
   ]
  },
  {
   "cell_type": "code",
   "execution_count": 239,
   "metadata": {},
   "outputs": [
    {
     "data": {
      "text/plain": [
       "array([329633.54213886, 246261.4599701 , 304466.3824701 , ...,\n",
       "        82798.39935614,  84803.81489611,  95888.9380362 ])"
      ]
     },
     "execution_count": 239,
     "metadata": {},
     "output_type": "execute_result"
    }
   ],
   "source": [
    "test_predictions"
   ]
  },
  {
   "cell_type": "code",
   "execution_count": 240,
   "metadata": {},
   "outputs": [],
   "source": [
    "submission = pd.read_csv('../ynov-data/submission.csv')\n",
    "submission['median_house_value'] = test_predictions\n",
    "submission.to_csv('../ynov-data/submission.csv', index=False)"
   ]
  },
  {
   "cell_type": "code",
   "execution_count": 241,
   "metadata": {},
   "outputs": [
    {
     "data": {
      "text/html": [
       "<div>\n",
       "<style scoped>\n",
       "    .dataframe tbody tr th:only-of-type {\n",
       "        vertical-align: middle;\n",
       "    }\n",
       "\n",
       "    .dataframe tbody tr th {\n",
       "        vertical-align: top;\n",
       "    }\n",
       "\n",
       "    .dataframe thead th {\n",
       "        text-align: right;\n",
       "    }\n",
       "</style>\n",
       "<table border=\"1\" class=\"dataframe\">\n",
       "  <thead>\n",
       "    <tr style=\"text-align: right;\">\n",
       "      <th></th>\n",
       "      <th>id</th>\n",
       "      <th>median_house_value</th>\n",
       "    </tr>\n",
       "  </thead>\n",
       "  <tbody>\n",
       "    <tr>\n",
       "      <th>0</th>\n",
       "      <td>3</td>\n",
       "      <td>329633.542139</td>\n",
       "    </tr>\n",
       "    <tr>\n",
       "      <th>1</th>\n",
       "      <td>10</td>\n",
       "      <td>246261.459970</td>\n",
       "    </tr>\n",
       "    <tr>\n",
       "      <th>2</th>\n",
       "      <td>11</td>\n",
       "      <td>304466.382470</td>\n",
       "    </tr>\n",
       "    <tr>\n",
       "      <th>3</th>\n",
       "      <td>12</td>\n",
       "      <td>239678.899977</td>\n",
       "    </tr>\n",
       "    <tr>\n",
       "      <th>4</th>\n",
       "      <td>13</td>\n",
       "      <td>210036.443088</td>\n",
       "    </tr>\n",
       "    <tr>\n",
       "      <th>...</th>\n",
       "      <td>...</td>\n",
       "      <td>...</td>\n",
       "    </tr>\n",
       "    <tr>\n",
       "      <th>8635</th>\n",
       "      <td>20635</td>\n",
       "      <td>67513.540840</td>\n",
       "    </tr>\n",
       "    <tr>\n",
       "      <th>8636</th>\n",
       "      <td>20636</td>\n",
       "      <td>103349.912721</td>\n",
       "    </tr>\n",
       "    <tr>\n",
       "      <th>8637</th>\n",
       "      <td>20637</td>\n",
       "      <td>82798.399356</td>\n",
       "    </tr>\n",
       "    <tr>\n",
       "      <th>8638</th>\n",
       "      <td>20638</td>\n",
       "      <td>84803.814896</td>\n",
       "    </tr>\n",
       "    <tr>\n",
       "      <th>8639</th>\n",
       "      <td>20639</td>\n",
       "      <td>95888.938036</td>\n",
       "    </tr>\n",
       "  </tbody>\n",
       "</table>\n",
       "<p>8640 rows × 2 columns</p>\n",
       "</div>"
      ],
      "text/plain": [
       "         id  median_house_value\n",
       "0         3       329633.542139\n",
       "1        10       246261.459970\n",
       "2        11       304466.382470\n",
       "3        12       239678.899977\n",
       "4        13       210036.443088\n",
       "...     ...                 ...\n",
       "8635  20635        67513.540840\n",
       "8636  20636       103349.912721\n",
       "8637  20637        82798.399356\n",
       "8638  20638        84803.814896\n",
       "8639  20639        95888.938036\n",
       "\n",
       "[8640 rows x 2 columns]"
      ]
     },
     "execution_count": 241,
     "metadata": {},
     "output_type": "execute_result"
    }
   ],
   "source": [
    "submission"
   ]
  }
 ],
 "metadata": {
  "kernelspec": {
   "display_name": "Python 3 (ipykernel)",
   "language": "python",
   "name": "python3"
  },
  "language_info": {
   "codemirror_mode": {
    "name": "ipython",
    "version": 3
   },
   "file_extension": ".py",
   "mimetype": "text/x-python",
   "name": "python",
   "nbconvert_exporter": "python",
   "pygments_lexer": "ipython3",
   "version": "3.10.12"
  }
 },
 "nbformat": 4,
 "nbformat_minor": 4
}
