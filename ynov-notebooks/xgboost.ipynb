{
 "cells": [
  {
   "cell_type": "code",
   "execution_count": 2,
   "metadata": {
    "vscode": {
     "languageId": "plaintext"
    }
   },
   "outputs": [
    {
     "name": "stderr",
     "output_type": "stream",
     "text": [
      "/home/zehelh/.cache/pypoetry/virtualenvs/ynov-bZ5hcnR3-py3.10/lib/python3.10/site-packages/xgboost/core.py:158: UserWarning: [11:48:32] WARNING: /workspace/src/common/error_msg.cc:27: The tree method `gpu_hist` is deprecated since 2.0.0. To use GPU training, set the `device` parameter to CUDA instead.\n",
      "\n",
      "    E.g. tree_method = \"hist\", device = \"cuda\"\n",
      "\n",
      "  warnings.warn(smsg, UserWarning)\n"
     ]
    },
    {
     "name": "stdout",
     "output_type": "stream",
     "text": [
      "Training RMSE: 27313.21\n",
      "Training R²: 0.94\n",
      "Validation RMSE: 60280.19\n",
      "Validation R²: 0.74\n"
     ]
    },
    {
     "name": "stderr",
     "output_type": "stream",
     "text": [
      "/home/zehelh/.cache/pypoetry/virtualenvs/ynov-bZ5hcnR3-py3.10/lib/python3.10/site-packages/xgboost/core.py:158: UserWarning: [11:48:33] WARNING: /workspace/src/common/error_msg.cc:27: The tree method `gpu_hist` is deprecated since 2.0.0. To use GPU training, set the `device` parameter to CUDA instead.\n",
      "\n",
      "    E.g. tree_method = \"hist\", device = \"cuda\"\n",
      "\n",
      "  warnings.warn(smsg, UserWarning)\n",
      "/home/zehelh/.cache/pypoetry/virtualenvs/ynov-bZ5hcnR3-py3.10/lib/python3.10/site-packages/xgboost/core.py:158: UserWarning: [11:48:33] WARNING: /workspace/src/common/error_msg.cc:58: Falling back to prediction using DMatrix due to mismatched devices. This might lead to higher memory usage and slower performance. XGBoost is running on: cuda:0, while the input data is on: cpu.\n",
      "Potential solutions:\n",
      "- Use a data structure that matches the device ordinal in the booster.\n",
      "- Set the device for booster before call to inplace_predict.\n",
      "\n",
      "This warning will only be shown once.\n",
      "\n",
      "  warnings.warn(smsg, UserWarning)\n"
     ]
    }
   ],
   "source": [
    "import pandas as pd\n",
    "import numpy as np\n",
    "import xgboost as xgb\n",
    "from sklearn.preprocessing import StandardScaler\n",
    "from sklearn.pipeline import Pipeline\n",
    "from sklearn.compose import ColumnTransformer\n",
    "from category_encoders import TargetEncoder\n",
    "from sklearn.metrics import mean_squared_error, r2_score\n",
    "\n",
    "def create_features(df):\n",
    "    df = df.copy()\n",
    "    df['rooms_per_household'] = df['total_rooms']/df['households']\n",
    "    df['bedrooms_per_room'] = df['total_bedrooms']/df['total_rooms']\n",
    "    df['population_per_household'] = df['population']/df['households']\n",
    "    df['income_per_household'] = df['median_income']/df['households']\n",
    "    return df\n",
    "\n",
    "# Chargement données\n",
    "train_data = pd.read_csv('../ynov-data/train_housing_train.csv')\n",
    "valid_data = pd.read_csv('../ynov-data/train_housing_valid.csv')\n",
    "\n",
    "columns_to_drop = ['longitude', 'latitude', 'id', 'median_house_value']\n",
    "X_train = create_features(train_data.drop(columns=columns_to_drop))\n",
    "y_train = train_data['median_house_value']\n",
    "\n",
    "# Preprocessing\n",
    "numeric_features = X_train.select_dtypes(include=['float64', 'int64']).columns\n",
    "categorical_features = X_train.select_dtypes(include=['object']).columns\n",
    "\n",
    "numeric_transformer = Pipeline(steps=[\n",
    "    ('scaler', StandardScaler())\n",
    "])\n",
    "\n",
    "categorical_transformer = TargetEncoder()\n",
    "\n",
    "preprocessor = ColumnTransformer(\n",
    "    transformers=[\n",
    "        ('num', numeric_transformer, numeric_features),\n",
    "        ('cat', categorical_transformer, categorical_features)\n",
    "    ])\n",
    "\n",
    "# XGBoost avec GPU\n",
    "model = Pipeline([\n",
    "    ('preprocessor', preprocessor),\n",
    "    ('regressor', xgb.XGBRegressor(\n",
    "        n_estimators=200,\n",
    "        max_depth=7,\n",
    "        learning_rate=0.1,\n",
    "        tree_method='gpu_hist',  # Utilisation GPU\n",
    "        random_state=42\n",
    "    ))\n",
    "])\n",
    "\n",
    "# Entraînement\n",
    "model.fit(X_train, y_train)\n",
    "\n",
    "# Métriques\n",
    "train_predictions = model.predict(X_train)\n",
    "train_rmse = np.sqrt(mean_squared_error(y_train, train_predictions))\n",
    "train_r2 = r2_score(y_train, train_predictions)\n",
    "\n",
    "print(f'Training RMSE: {train_rmse:.2f}')\n",
    "print(f'Training R²: {train_r2:.2f}')\n",
    "\n",
    "# Validation\n",
    "X_valid = create_features(valid_data.drop(columns=columns_to_drop))\n",
    "y_valid = valid_data['median_house_value']\n",
    "valid_predictions = model.predict(X_valid)\n",
    "\n",
    "rmse = np.sqrt(mean_squared_error(y_valid, valid_predictions))\n",
    "r2 = r2_score(y_valid, valid_predictions)\n",
    "\n",
    "print(f'Validation RMSE: {rmse:.2f}')\n",
    "print(f'Validation R²: {r2:.2f}')"
   ]
  },
  {
   "cell_type": "code",
   "execution_count": null,
   "metadata": {},
   "outputs": [],
   "source": []
  }
 ],
 "metadata": {
  "kernelspec": {
   "display_name": "Python 3 (ipykernel)",
   "language": "python",
   "name": "python3"
  },
  "language_info": {
   "codemirror_mode": {
    "name": "ipython",
    "version": 3
   },
   "file_extension": ".py",
   "mimetype": "text/x-python",
   "name": "python",
   "nbconvert_exporter": "python",
   "pygments_lexer": "ipython3",
   "version": "3.10.12"
  }
 },
 "nbformat": 4,
 "nbformat_minor": 4
}
